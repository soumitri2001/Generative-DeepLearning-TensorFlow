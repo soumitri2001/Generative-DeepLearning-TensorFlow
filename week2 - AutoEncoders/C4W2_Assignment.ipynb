{
  "nbformat": 4,
  "nbformat_minor": 0,
  "metadata": {
    "accelerator": "GPU",
    "kernelspec": {
      "display_name": "Python 3",
      "language": "python",
      "name": "python3"
    },
    "language_info": {
      "codemirror_mode": {
        "name": "ipython",
        "version": 3
      },
      "file_extension": ".py",
      "mimetype": "text/x-python",
      "name": "python",
      "nbconvert_exporter": "python",
      "pygments_lexer": "ipython3",
      "version": "3.7.4"
    },
    "colab": {
      "name": "Copy of C4W2_Assignment.ipynb",
      "provenance": [],
      "collapsed_sections": []
    }
  },
  "cells": [
    {
      "cell_type": "markdown",
      "metadata": {
        "id": "L6S2HVAkSt0p"
      },
      "source": [
        "# Week 2 Assignment: CIFAR-10 Autoencoder\n",
        "\n",
        "For this week, you will create a convolutional autoencoder for the [CIFAR10](https://www.tensorflow.org/datasets/catalog/cifar10) dataset. You are free to choose the architecture of your autoencoder provided that the output image has the same dimensions as the input image.\n",
        "\n",
        "After training, your model should meet loss and accuracy requirements when evaluated with the test dataset. You will then download the model and upload it in the classroom for grading. \n",
        "\n",
        "Let's begin!"
      ]
    },
    {
      "cell_type": "markdown",
      "metadata": {
        "id": "6r4iPr2jyisR"
      },
      "source": [
        "***Important:*** *This colab notebook has read-only access so you won't be able to save your changes. If you want to save your work periodically, please click `File -> Save a Copy in Drive` to create a copy in your account, then work from there.*  "
      ]
    },
    {
      "cell_type": "markdown",
      "metadata": {
        "id": "g1mzy2J8_nc1"
      },
      "source": [
        "## Imports"
      ]
    },
    {
      "cell_type": "code",
      "metadata": {
        "id": "3EXwoz-KHtWO"
      },
      "source": [
        "try:\n",
        "  # %tensorflow_version only exists in Colab.\n",
        "  %tensorflow_version 2.x\n",
        "except Exception:\n",
        "  pass\n",
        "\n",
        "import tensorflow as tf\n",
        "import tensorflow_datasets as tfds\n",
        "from tensorflow.keras import layers as nn\n",
        "\n",
        "from keras.models import Sequential"
      ],
      "execution_count": 6,
      "outputs": []
    },
    {
      "cell_type": "markdown",
      "metadata": {
        "id": "n2Gs6Lyc_pd0"
      },
      "source": [
        "## Load and prepare the dataset\n",
        "\n",
        "The [CIFAR 10](https://www.tensorflow.org/datasets/catalog/cifar10) dataset already has train and test splits and you can use those in this exercise. Here are the general steps:\n",
        "\n",
        "* Load the train/test split from TFDS. Set `as_supervised` to `True` so it will be convenient to use the preprocessing function we provided.\n",
        "* Normalize the pixel values to the range [0,1], then return `image, image` pairs for training instead of `image, label`. This is because you will check if the output image is successfully regenerated after going through your autoencoder.\n",
        "* Shuffle and batch the train set. Batch the test set (no need to shuffle).\n"
      ]
    },
    {
      "cell_type": "code",
      "metadata": {
        "id": "t9F7YsCNIKSA"
      },
      "source": [
        "# preprocessing function\n",
        "def map_image(image, label):\n",
        "  image = tf.cast(image, dtype=tf.float32)\n",
        "  image = image / 255.0\n",
        "\n",
        "  return image, image # dataset label is not used. replaced with the same image input.\n",
        "\n",
        "# parameters\n",
        "BATCH_SIZE = 128\n",
        "SHUFFLE_BUFFER_SIZE = 1024\n",
        "\n",
        "\n",
        "### START CODE HERE (Replace instances of `None` with your code) ###\n",
        "\n",
        "# use tfds.load() to fetch the 'train' split of CIFAR-10\n",
        "train_dataset = tfds.load('cifar10',as_supervised=True,split='train')\n",
        "\n",
        "# preprocess the dataset with the `map_image()` function above\n",
        "train_dataset = train_dataset.map(map_image)\n",
        "\n",
        "# shuffle and batch the dataset\n",
        "train_dataset = train_dataset.shuffle(SHUFFLE_BUFFER_SIZE).batch(BATCH_SIZE).repeat(5)\n",
        "\n",
        "\n",
        "# use tfds.load() to fetch the 'test' split of CIFAR-10\n",
        "test_dataset = tfds.load('cifar10',as_supervised=True,split='test')\n",
        "\n",
        "# preprocess the dataset with the `map_image()` function above\n",
        "test_dataset = test_dataset.map(map_image)\n",
        "\n",
        "# batch the dataset\n",
        "test_dataset = test_dataset.batch(BATCH_SIZE).repeat(5)\n",
        "\n",
        "### END CODE HERE ###"
      ],
      "execution_count": 23,
      "outputs": []
    },
    {
      "cell_type": "markdown",
      "metadata": {
        "id": "rPyOgGJs_t98"
      },
      "source": [
        "## Build the Model\n",
        "\n",
        "Create the autoencoder model. As shown in the lectures, you will want to downsample the image in the encoder layers then upsample it in the decoder path. Note that the output layer should be the same dimensions as the original image. Your input images will have the shape `(32, 32, 3)`. If you deviate from this, your model may not be recognized by the grader and may fail. \n",
        "\n",
        "We included a few hints to use the Sequential API below but feel free to remove it and use the Functional API just like in the ungraded labs if you're more comfortable with it. Another reason to use the latter is if you want to visualize the encoder output. As shown in the ungraded labs, it will be easier to indicate multiple outputs with the Functional API. That is not required for this assignment though so you can just stack layers sequentially if you want a simpler solution."
      ]
    },
    {
      "cell_type": "code",
      "metadata": {
        "id": "Wr-Bok3lRgA3",
        "colab": {
          "base_uri": "https://localhost:8080/"
        },
        "outputId": "10c51cba-363d-44fa-ed4e-d38a85ddfa08"
      },
      "source": [
        "# suggested layers to use. feel free to add or remove as you see fit.\n",
        "from keras.layers import Conv2D, UpSampling2D\n",
        "\n",
        "# use the Sequential API (you can remove if you want to use the Functional API)\n",
        "model = Sequential()\n",
        "\n",
        "### START CODE HERE ###\n",
        "# use `model.add()` to add layers (if using the Sequential API)\n",
        "\n",
        "# encoder\n",
        "model.add(nn.Conv2D(filters=64,kernel_size=(3,3),input_shape=(32,32,3), activation='relu',padding='same'))\n",
        "model.add(nn.MaxPooling2D())\n",
        "model.add(nn.Conv2D(filters=128,kernel_size=(3,3),activation='relu',padding='same'))\n",
        "model.add(nn.MaxPooling2D())\n",
        "model.add(nn.Conv2D(filters=256,kernel_size=(3,3),activation='relu',padding='same'))\n",
        "model.add(nn.MaxPooling2D())\n",
        "\n",
        "# bottleneck\n",
        "model.add(nn.Conv2D(filters=512, kernel_size=(3,3), activation='relu', padding='same'))\n",
        "model.add(nn.MaxPooling2D())\n",
        "\n",
        "# decoder\n",
        "model.add(nn.UpSampling2D(size=(2,2)))\n",
        "model.add(nn.Conv2D(filters=64, kernel_size=(3,3), activation='relu', padding='same'))\n",
        "model.add(nn.UpSampling2D(size=(2,2)))\n",
        "model.add(nn.Conv2D(filters=128,kernel_size=(3,3),activation='relu',padding='same'))\n",
        "model.add(nn.UpSampling2D(size=(2,2)))\n",
        "model.add(nn.Conv2D(filters=256,kernel_size=(3,3),activation='relu',padding='same'))\n",
        "model.add(nn.UpSampling2D(size=(2,2)))\n",
        "model.add(nn.Conv2D(filters=3, kernel_size=(3,3), activation='sigmoid', padding='same'))\n",
        "\n",
        "### END CODE HERE ###\n",
        "\n",
        "model.summary()"
      ],
      "execution_count": 50,
      "outputs": [
        {
          "output_type": "stream",
          "text": [
            "Model: \"sequential_11\"\n",
            "_________________________________________________________________\n",
            "Layer (type)                 Output Shape              Param #   \n",
            "=================================================================\n",
            "conv2d_60 (Conv2D)           (None, 32, 32, 64)        1792      \n",
            "_________________________________________________________________\n",
            "max_pooling2d_33 (MaxPooling (None, 16, 16, 64)        0         \n",
            "_________________________________________________________________\n",
            "conv2d_61 (Conv2D)           (None, 16, 16, 128)       73856     \n",
            "_________________________________________________________________\n",
            "max_pooling2d_34 (MaxPooling (None, 8, 8, 128)         0         \n",
            "_________________________________________________________________\n",
            "conv2d_62 (Conv2D)           (None, 8, 8, 256)         295168    \n",
            "_________________________________________________________________\n",
            "max_pooling2d_35 (MaxPooling (None, 4, 4, 256)         0         \n",
            "_________________________________________________________________\n",
            "conv2d_63 (Conv2D)           (None, 4, 4, 512)         1180160   \n",
            "_________________________________________________________________\n",
            "max_pooling2d_36 (MaxPooling (None, 2, 2, 512)         0         \n",
            "_________________________________________________________________\n",
            "up_sampling2d_27 (UpSampling (None, 4, 4, 512)         0         \n",
            "_________________________________________________________________\n",
            "conv2d_64 (Conv2D)           (None, 4, 4, 64)          294976    \n",
            "_________________________________________________________________\n",
            "up_sampling2d_28 (UpSampling (None, 8, 8, 64)          0         \n",
            "_________________________________________________________________\n",
            "conv2d_65 (Conv2D)           (None, 8, 8, 128)         73856     \n",
            "_________________________________________________________________\n",
            "up_sampling2d_29 (UpSampling (None, 16, 16, 128)       0         \n",
            "_________________________________________________________________\n",
            "conv2d_66 (Conv2D)           (None, 16, 16, 256)       295168    \n",
            "_________________________________________________________________\n",
            "up_sampling2d_30 (UpSampling (None, 32, 32, 256)       0         \n",
            "_________________________________________________________________\n",
            "conv2d_67 (Conv2D)           (None, 32, 32, 3)         6915      \n",
            "=================================================================\n",
            "Total params: 2,221,891\n",
            "Trainable params: 2,221,891\n",
            "Non-trainable params: 0\n",
            "_________________________________________________________________\n"
          ],
          "name": "stdout"
        }
      ]
    },
    {
      "cell_type": "markdown",
      "metadata": {
        "id": "jRWTAijKEVUC"
      },
      "source": [
        "## Configure training parameters\n",
        "\n",
        "We have already provided the optimizer, metrics, and loss in the code below."
      ]
    },
    {
      "cell_type": "code",
      "metadata": {
        "id": "iHIeD9eDETSk"
      },
      "source": [
        "# Please do not change the model.compile() parameters\n",
        "model.compile(optimizer='adam', metrics=['accuracy'], loss='mean_squared_error')"
      ],
      "execution_count": 52,
      "outputs": []
    },
    {
      "cell_type": "markdown",
      "metadata": {
        "id": "tLQPhm1W_8dC"
      },
      "source": [
        "## Training\n",
        "\n",
        "You can now use [model.fit()](https://keras.io/api/models/model_training_apis/#fit-method) to train your model. You will pass in the `train_dataset` and you are free to configure the other parameters. As with any training, you should see the loss generally going down and the accuracy going up with each epoch. If not, please revisit the previous sections to find possible bugs.\n",
        "\n",
        "*Note: If you get a `dataset length is infinite` error. Please check how you defined `train_dataset`. You might have included a [method that repeats the dataset indefinitely](https://www.tensorflow.org/api_docs/python/tf/data/Dataset#repeat).*"
      ]
    },
    {
      "cell_type": "code",
      "metadata": {
        "id": "AMBimOnsRvg0",
        "colab": {
          "base_uri": "https://localhost:8080/"
        },
        "outputId": "4b2882e7-e76d-4b67-dbb9-55a15a9abdaf"
      },
      "source": [
        "# parameters (feel free to change this)\n",
        "train_steps = len(train_dataset) // BATCH_SIZE \n",
        "val_steps = len(test_dataset) // BATCH_SIZE\n",
        "\n",
        "### START CODE HERE ###\n",
        "history = model.fit(train_dataset,steps_per_epoch=train_steps,validation_data=test_dataset,validation_steps=val_steps,epochs=50)\n",
        "### END CODE HERE ###"
      ],
      "execution_count": 53,
      "outputs": [
        {
          "output_type": "stream",
          "text": [
            "Epoch 1/50\n",
            "15/15 [==============================] - 2s 50ms/step - loss: 0.0647 - accuracy: 0.3880 - val_loss: 0.0717 - val_accuracy: 0.4737\n",
            "Epoch 2/50\n",
            "15/15 [==============================] - 1s 39ms/step - loss: 0.0576 - accuracy: 0.4346 - val_loss: 0.0463 - val_accuracy: 0.5036\n",
            "Epoch 3/50\n",
            "15/15 [==============================] - 1s 39ms/step - loss: 0.0466 - accuracy: 0.4881 - val_loss: 0.0396 - val_accuracy: 0.4505\n",
            "Epoch 4/50\n",
            "15/15 [==============================] - 1s 38ms/step - loss: 0.0345 - accuracy: 0.4515 - val_loss: 0.0301 - val_accuracy: 0.4477\n",
            "Epoch 5/50\n",
            "15/15 [==============================] - 1s 38ms/step - loss: 0.0298 - accuracy: 0.4656 - val_loss: 0.0278 - val_accuracy: 0.4536\n",
            "Epoch 6/50\n",
            "15/15 [==============================] - 1s 39ms/step - loss: 0.0275 - accuracy: 0.4919 - val_loss: 0.0266 - val_accuracy: 0.4824\n",
            "Epoch 7/50\n",
            "15/15 [==============================] - 1s 39ms/step - loss: 0.0264 - accuracy: 0.5100 - val_loss: 0.0225 - val_accuracy: 0.5778\n",
            "Epoch 8/50\n",
            "15/15 [==============================] - 1s 39ms/step - loss: 0.0219 - accuracy: 0.5833 - val_loss: 0.0205 - val_accuracy: 0.6040\n",
            "Epoch 9/50\n",
            "15/15 [==============================] - 1s 38ms/step - loss: 0.0225 - accuracy: 0.6073 - val_loss: 0.0206 - val_accuracy: 0.5997\n",
            "Epoch 10/50\n",
            "15/15 [==============================] - 1s 39ms/step - loss: 0.0203 - accuracy: 0.6040 - val_loss: 0.0188 - val_accuracy: 0.6145\n",
            "Epoch 11/50\n",
            "15/15 [==============================] - 1s 39ms/step - loss: 0.0188 - accuracy: 0.6048 - val_loss: 0.0203 - val_accuracy: 0.6135\n",
            "Epoch 12/50\n",
            "15/15 [==============================] - 1s 39ms/step - loss: 0.0239 - accuracy: 0.5952 - val_loss: 0.0199 - val_accuracy: 0.5954\n",
            "Epoch 13/50\n",
            "15/15 [==============================] - 1s 40ms/step - loss: 0.0193 - accuracy: 0.5994 - val_loss: 0.0181 - val_accuracy: 0.6258\n",
            "Epoch 14/50\n",
            "15/15 [==============================] - 1s 39ms/step - loss: 0.0184 - accuracy: 0.6239 - val_loss: 0.0173 - val_accuracy: 0.6302\n",
            "Epoch 15/50\n",
            "15/15 [==============================] - 1s 39ms/step - loss: 0.0174 - accuracy: 0.6394 - val_loss: 0.0169 - val_accuracy: 0.6384\n",
            "Epoch 16/50\n",
            "15/15 [==============================] - 1s 39ms/step - loss: 0.0171 - accuracy: 0.6389 - val_loss: 0.0162 - val_accuracy: 0.6398\n",
            "Epoch 17/50\n",
            "15/15 [==============================] - 1s 38ms/step - loss: 0.0164 - accuracy: 0.6382 - val_loss: 0.0183 - val_accuracy: 0.6462\n",
            "Epoch 18/50\n",
            "15/15 [==============================] - 1s 40ms/step - loss: 0.0182 - accuracy: 0.6439 - val_loss: 0.0161 - val_accuracy: 0.6430\n",
            "Epoch 19/50\n",
            "15/15 [==============================] - 1s 39ms/step - loss: 0.0157 - accuracy: 0.6457 - val_loss: 0.0152 - val_accuracy: 0.6335\n",
            "Epoch 20/50\n",
            "15/15 [==============================] - 1s 39ms/step - loss: 0.0154 - accuracy: 0.6488 - val_loss: 0.0145 - val_accuracy: 0.6453\n",
            "Epoch 21/50\n",
            "15/15 [==============================] - 1s 39ms/step - loss: 0.0152 - accuracy: 0.6473 - val_loss: 0.0151 - val_accuracy: 0.6197\n",
            "Epoch 22/50\n",
            "15/15 [==============================] - 1s 40ms/step - loss: 0.0150 - accuracy: 0.6470 - val_loss: 0.0143 - val_accuracy: 0.6360\n",
            "Epoch 23/50\n",
            "15/15 [==============================] - 1s 39ms/step - loss: 0.0144 - accuracy: 0.6406 - val_loss: 0.0151 - val_accuracy: 0.6468\n",
            "Epoch 24/50\n",
            "15/15 [==============================] - 1s 38ms/step - loss: 0.0145 - accuracy: 0.6715 - val_loss: 0.0140 - val_accuracy: 0.6554\n",
            "Epoch 25/50\n",
            "15/15 [==============================] - 1s 39ms/step - loss: 0.0137 - accuracy: 0.6712 - val_loss: 0.0134 - val_accuracy: 0.6466\n",
            "Epoch 26/50\n",
            "15/15 [==============================] - 1s 37ms/step - loss: 0.0132 - accuracy: 0.6540 - val_loss: 0.0139 - val_accuracy: 0.6328\n",
            "Epoch 27/50\n",
            "15/15 [==============================] - 1s 45ms/step - loss: 0.0136 - accuracy: 0.6403 - val_loss: 0.0130 - val_accuracy: 0.6352\n",
            "Epoch 28/50\n",
            "15/15 [==============================] - 1s 39ms/step - loss: 0.0128 - accuracy: 0.6637 - val_loss: 0.0136 - val_accuracy: 0.6650\n",
            "Epoch 29/50\n",
            "15/15 [==============================] - 1s 40ms/step - loss: 0.0133 - accuracy: 0.6649 - val_loss: 0.0129 - val_accuracy: 0.6626\n",
            "Epoch 30/50\n",
            "15/15 [==============================] - 1s 40ms/step - loss: 0.0132 - accuracy: 0.6642 - val_loss: 0.0122 - val_accuracy: 0.6811\n",
            "Epoch 31/50\n",
            "15/15 [==============================] - 1s 39ms/step - loss: 0.0122 - accuracy: 0.6911 - val_loss: 0.0123 - val_accuracy: 0.6884\n",
            "Epoch 32/50\n",
            "15/15 [==============================] - 1s 40ms/step - loss: 0.0131 - accuracy: 0.6923 - val_loss: 0.0121 - val_accuracy: 0.6854\n",
            "Epoch 33/50\n",
            "15/15 [==============================] - 1s 40ms/step - loss: 0.0125 - accuracy: 0.6927 - val_loss: 0.0116 - val_accuracy: 0.6800\n",
            "Epoch 34/50\n",
            "15/15 [==============================] - 1s 41ms/step - loss: 0.0116 - accuracy: 0.6977 - val_loss: 0.0115 - val_accuracy: 0.7017\n",
            "Epoch 35/50\n",
            "15/15 [==============================] - 1s 39ms/step - loss: 0.0118 - accuracy: 0.6998 - val_loss: 0.0113 - val_accuracy: 0.7146\n",
            "Epoch 36/50\n",
            "15/15 [==============================] - 1s 40ms/step - loss: 0.0114 - accuracy: 0.7183 - val_loss: 0.0129 - val_accuracy: 0.7262\n",
            "Epoch 37/50\n",
            "15/15 [==============================] - 1s 38ms/step - loss: 0.0119 - accuracy: 0.7179 - val_loss: 0.0116 - val_accuracy: 0.7097\n",
            "Epoch 38/50\n",
            "15/15 [==============================] - 1s 40ms/step - loss: 0.0114 - accuracy: 0.7157 - val_loss: 0.0109 - val_accuracy: 0.7190\n",
            "Epoch 39/50\n",
            "15/15 [==============================] - 1s 39ms/step - loss: 0.0112 - accuracy: 0.7249 - val_loss: 0.0108 - val_accuracy: 0.7310\n",
            "Epoch 40/50\n",
            "15/15 [==============================] - 1s 37ms/step - loss: 0.0111 - accuracy: 0.7270 - val_loss: 0.0106 - val_accuracy: 0.7229\n",
            "Epoch 41/50\n",
            "15/15 [==============================] - 1s 39ms/step - loss: 0.0109 - accuracy: 0.7304 - val_loss: 0.0111 - val_accuracy: 0.7368\n",
            "Epoch 42/50\n",
            "15/15 [==============================] - 1s 39ms/step - loss: 0.0120 - accuracy: 0.7273 - val_loss: 0.0113 - val_accuracy: 0.7187\n",
            "Epoch 43/50\n",
            "15/15 [==============================] - 1s 39ms/step - loss: 0.0114 - accuracy: 0.7119 - val_loss: 0.0107 - val_accuracy: 0.7291\n",
            "Epoch 44/50\n",
            "15/15 [==============================] - 1s 38ms/step - loss: 0.0106 - accuracy: 0.7228 - val_loss: 0.0104 - val_accuracy: 0.7351\n",
            "Epoch 45/50\n",
            "15/15 [==============================] - 1s 39ms/step - loss: 0.0106 - accuracy: 0.7340 - val_loss: 0.0109 - val_accuracy: 0.7360\n",
            "Epoch 46/50\n",
            "15/15 [==============================] - 1s 40ms/step - loss: 0.0105 - accuracy: 0.7372 - val_loss: 0.0102 - val_accuracy: 0.7496\n",
            "Epoch 47/50\n",
            "15/15 [==============================] - 1s 40ms/step - loss: 0.0106 - accuracy: 0.7170 - val_loss: 0.0103 - val_accuracy: 0.7214\n",
            "Epoch 48/50\n",
            "15/15 [==============================] - 1s 39ms/step - loss: 0.0106 - accuracy: 0.7244 - val_loss: 0.0103 - val_accuracy: 0.7329\n",
            "Epoch 49/50\n",
            "15/15 [==============================] - 1s 38ms/step - loss: 0.0104 - accuracy: 0.7245 - val_loss: 0.0100 - val_accuracy: 0.7515\n",
            "Epoch 50/50\n",
            "15/15 [==============================] - 1s 38ms/step - loss: 0.0103 - accuracy: 0.7504 - val_loss: 0.0105 - val_accuracy: 0.7439\n"
          ],
          "name": "stdout"
        }
      ]
    },
    {
      "cell_type": "code",
      "metadata": {
        "colab": {
          "base_uri": "https://localhost:8080/",
          "height": 573
        },
        "id": "iiGtPwfxAcwu",
        "outputId": "0a95332e-d389-4dee-d55d-b107c81c9004"
      },
      "source": [
        "import matplotlib.pyplot as plt\n",
        "\n",
        "# summarize history for accuracy\n",
        "plt.plot(history.history['accuracy'])\n",
        "plt.plot(history.history['val_accuracy'])\n",
        "plt.title('model accuracy')\n",
        "plt.ylabel('accuracy')\n",
        "plt.xlabel('epoch')\n",
        "plt.legend(['train', 'test'], loc='best')\n",
        "plt.show()\n",
        "\n",
        "# summarize history for loss\n",
        "plt.plot(history.history['loss'])\n",
        "plt.plot(history.history['val_loss'])\n",
        "plt.title('model loss')\n",
        "plt.ylabel('loss')\n",
        "plt.xlabel('epoch')\n",
        "plt.legend(['train', 'test'], loc='upper left')\n",
        "plt.show()"
      ],
      "execution_count": 54,
      "outputs": [
        {
          "output_type": "display_data",
          "data": {
            "image/png": "[encoded data removed]",
            "text/plain": [
              "<Figure size 432x288 with 1 Axes>"
            ]
          },
          "metadata": {
            "tags": [],
            "needs_background": "light"
          }
        },
        {
          "output_type": "display_data",
          "data": {
            "image/png": "[encoded data removed]",
            "text/plain": [
              "<Figure size 432x288 with 1 Axes>"
            ]
          },
          "metadata": {
            "tags": [],
            "needs_background": "light"
          }
        }
      ]
    },
    {
      "cell_type": "markdown",
      "metadata": {
        "id": "PT2l1c-SAaF4"
      },
      "source": [
        "## Model evaluation\n",
        "\n",
        "You can use this code to test your model locally before uploading to the grader. To pass, your model needs to satisfy these two requirements:\n",
        "\n",
        "* loss must be less than 0.01 \n",
        "* accuracy must be greater than 0.6"
      ]
    },
    {
      "cell_type": "code",
      "metadata": {
        "id": "vFncgqahSQhA",
        "colab": {
          "base_uri": "https://localhost:8080/"
        },
        "outputId": "6a845c35-55f1-4430-f37f-55965a0f8405"
      },
      "source": [
        "result = model.evaluate(test_dataset, steps=10)"
      ],
      "execution_count": 55,
      "outputs": [
        {
          "output_type": "stream",
          "text": [
            "10/10 [==============================] - 0s 25ms/step - loss: 0.0105 - accuracy: 0.7456\n"
          ],
          "name": "stdout"
        }
      ]
    },
    {
      "cell_type": "markdown",
      "metadata": {
        "id": "di6VOHGwIsVM"
      },
      "source": [
        "If you did some visualization like in the ungraded labs, then you might see something like the gallery below. This part is not required."
      ]
    },
    {
      "cell_type": "markdown",
      "metadata": {
        "id": "wmpI4skkIA5L"
      },
      "source": [
        "<img src=\"https://drive.google.com/uc?export=view&id=12Fy-guiP-3tTPfc9IV2nHhqLvs7LwRo6\" width=\"75%\" height=\"75%\"/>"
      ]
    },
    {
      "cell_type": "markdown",
      "metadata": {
        "id": "uaRSkQPNAPT0"
      },
      "source": [
        "## Save your model\n",
        "\n",
        "Once you are satisfied with the results, you can now save your model. Please download it from the Files window on the left and go back to the Submission portal in Coursera for grading."
      ]
    },
    {
      "cell_type": "code",
      "metadata": {
        "id": "pLFpLP-c7rDR"
      },
      "source": [
        "model.save('mymodel.h5')"
      ],
      "execution_count": 37,
      "outputs": []
    },
    {
      "cell_type": "markdown",
      "metadata": {
        "id": "QArMiXJTDxDe"
      },
      "source": [
        "**Congratulations on completing this week's assignment!**"
      ]
    }
  ]
}